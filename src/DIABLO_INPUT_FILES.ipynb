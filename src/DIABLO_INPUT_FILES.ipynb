{
 "cells": [
  {
   "cell_type": "markdown",
   "source": [
    "# CREATE INPUT FILES FROM DIABLO"
   ],
   "metadata": {
    "collapsed": false
   },
   "id": "63bb2337cc909c89"
  },
  {
   "cell_type": "markdown",
   "source": [
    "these files will be used as input for DIABLO in R"
   ],
   "metadata": {
    "collapsed": false
   },
   "id": "b488fc314bbd1d3a"
  },
  {
   "cell_type": "code",
   "execution_count": 46,
   "outputs": [],
   "source": [
    "import os\n",
    "import pandas as pd\n",
    "from sklearn.model_selection import StratifiedKFold\n",
    "from sklearn.feature_selection import VarianceThreshold, SelectKBest, f_classif\n",
    "from sklearn.preprocessing import StandardScaler"
   ],
   "metadata": {
    "collapsed": false,
    "ExecuteTime": {
     "end_time": "2024-03-28T16:23:45.603465500Z",
     "start_time": "2024-03-28T16:23:45.593433300Z"
    }
   },
   "id": "4ed85480af1759e6"
  },
  {
   "cell_type": "code",
   "execution_count": 53,
   "outputs": [],
   "source": [
    "import warnings\n",
    "warnings.filterwarnings('ignore')"
   ],
   "metadata": {
    "collapsed": false,
    "ExecuteTime": {
     "end_time": "2024-03-28T16:25:04.900835700Z",
     "start_time": "2024-03-28T16:25:04.891325500Z"
    }
   },
   "id": "79aa4649f7d8b5dc"
  },
  {
   "cell_type": "code",
   "execution_count": 47,
   "outputs": [],
   "source": [
    "data_source = '../data/'"
   ],
   "metadata": {
    "collapsed": false,
    "ExecuteTime": {
     "end_time": "2024-03-28T16:23:46.905404600Z",
     "start_time": "2024-03-28T16:23:46.901401800Z"
    }
   },
   "id": "46aa293a0a5d6569"
  },
  {
   "cell_type": "markdown",
   "source": [
    "## RNASEQ"
   ],
   "metadata": {
    "collapsed": false
   },
   "id": "92fe4543ee9f6583"
  },
  {
   "cell_type": "code",
   "execution_count": 48,
   "outputs": [],
   "source": [
    "metadata_file = os.path.join(data_source, 'GSE98923_metadata.xlsx')"
   ],
   "metadata": {
    "collapsed": false,
    "ExecuteTime": {
     "end_time": "2024-03-28T16:23:48.818141900Z",
     "start_time": "2024-03-28T16:23:48.813141700Z"
    }
   },
   "id": "d95b4a2913302bf5"
  },
  {
   "cell_type": "code",
   "execution_count": 49,
   "outputs": [
    {
     "data": {
      "text/plain": "                          cultivar  year   state\nMEAN SAMPLES                                    \nCS_time0_2012   Cabernet Sauvignon  2012   green\nCS_time1_2012   Cabernet Sauvignon  2012   green\nCS_time2_2012   Cabernet Sauvignon  2012   green\nCS_time3_2012   Cabernet Sauvignon  2012   green\nCS_time4_2012   Cabernet Sauvignon  2012   green\n...                            ...   ...     ...\nPN_time7_2014           Pinot Noir  2014  mature\nPN_time8_2014           Pinot Noir  2014  mature\nPN_time9_2014           Pinot Noir  2014  mature\nPN_time10_2014          Pinot Noir  2014  mature\nPN_time11_2014          Pinot Noir  2014  mature\n\n[73 rows x 3 columns]",
      "text/html": "<div>\n<style scoped>\n    .dataframe tbody tr th:only-of-type {\n        vertical-align: middle;\n    }\n\n    .dataframe tbody tr th {\n        vertical-align: top;\n    }\n\n    .dataframe thead th {\n        text-align: right;\n    }\n</style>\n<table border=\"1\" class=\"dataframe\">\n  <thead>\n    <tr style=\"text-align: right;\">\n      <th></th>\n      <th>cultivar</th>\n      <th>year</th>\n      <th>state</th>\n    </tr>\n    <tr>\n      <th>MEAN SAMPLES</th>\n      <th></th>\n      <th></th>\n      <th></th>\n    </tr>\n  </thead>\n  <tbody>\n    <tr>\n      <th>CS_time0_2012</th>\n      <td>Cabernet Sauvignon</td>\n      <td>2012</td>\n      <td>green</td>\n    </tr>\n    <tr>\n      <th>CS_time1_2012</th>\n      <td>Cabernet Sauvignon</td>\n      <td>2012</td>\n      <td>green</td>\n    </tr>\n    <tr>\n      <th>CS_time2_2012</th>\n      <td>Cabernet Sauvignon</td>\n      <td>2012</td>\n      <td>green</td>\n    </tr>\n    <tr>\n      <th>CS_time3_2012</th>\n      <td>Cabernet Sauvignon</td>\n      <td>2012</td>\n      <td>green</td>\n    </tr>\n    <tr>\n      <th>CS_time4_2012</th>\n      <td>Cabernet Sauvignon</td>\n      <td>2012</td>\n      <td>green</td>\n    </tr>\n    <tr>\n      <th>...</th>\n      <td>...</td>\n      <td>...</td>\n      <td>...</td>\n    </tr>\n    <tr>\n      <th>PN_time7_2014</th>\n      <td>Pinot Noir</td>\n      <td>2014</td>\n      <td>mature</td>\n    </tr>\n    <tr>\n      <th>PN_time8_2014</th>\n      <td>Pinot Noir</td>\n      <td>2014</td>\n      <td>mature</td>\n    </tr>\n    <tr>\n      <th>PN_time9_2014</th>\n      <td>Pinot Noir</td>\n      <td>2014</td>\n      <td>mature</td>\n    </tr>\n    <tr>\n      <th>PN_time10_2014</th>\n      <td>Pinot Noir</td>\n      <td>2014</td>\n      <td>mature</td>\n    </tr>\n    <tr>\n      <th>PN_time11_2014</th>\n      <td>Pinot Noir</td>\n      <td>2014</td>\n      <td>mature</td>\n    </tr>\n  </tbody>\n</table>\n<p>73 rows × 3 columns</p>\n</div>"
     },
     "execution_count": 49,
     "metadata": {},
     "output_type": "execute_result"
    }
   ],
   "source": [
    "metadata = pd.read_excel(metadata_file, index_col=0, sheet_name='NO_REPLICATES')\n",
    "metadata"
   ],
   "metadata": {
    "collapsed": false,
    "ExecuteTime": {
     "end_time": "2024-03-28T16:23:50.067387800Z",
     "start_time": "2024-03-28T16:23:50.037529900Z"
    }
   },
   "id": "d62b3c7ff962fdce"
  },
  {
   "cell_type": "code",
   "execution_count": 50,
   "id": "initial_id",
   "metadata": {
    "collapsed": true,
    "ExecuteTime": {
     "end_time": "2024-03-28T16:23:52.289528900Z",
     "start_time": "2024-03-28T16:23:51.882745100Z"
    }
   },
   "outputs": [
    {
     "data": {
      "text/plain": "(73, 35336)"
     },
     "execution_count": 50,
     "metadata": {},
     "output_type": "execute_result"
    }
   ],
   "source": [
    "data_all_genes = pd.read_csv(os.path.join(data_source, 'GREAT_LOG_TPM_GSE98923_NOREPS.csv'), index_col=0)\n",
    "data_all_genes = data_all_genes.transpose()\n",
    "data_all_genes.shape"
   ]
  },
  {
   "cell_type": "code",
   "execution_count": 51,
   "outputs": [],
   "source": [
    "y_state = metadata['state']"
   ],
   "metadata": {
    "collapsed": false,
    "ExecuteTime": {
     "end_time": "2024-03-28T16:23:54.202052400Z",
     "start_time": "2024-03-28T16:23:54.198047Z"
    }
   },
   "id": "aece25f47fd06036"
  },
  {
   "cell_type": "code",
   "execution_count": 52,
   "outputs": [],
   "source": [
    "trains_index = []\n",
    "tests_index = []\n",
    "ys_train = []"
   ],
   "metadata": {
    "collapsed": false,
    "ExecuteTime": {
     "end_time": "2024-03-28T16:23:55.373789800Z",
     "start_time": "2024-03-28T16:23:55.370213100Z"
    }
   },
   "id": "6304c14bbcc9335"
  },
  {
   "cell_type": "code",
   "execution_count": 54,
   "outputs": [],
   "source": [
    "skf = StratifiedKFold(n_splits=5)\n",
    "for i, (train_index, test_index) in enumerate(skf.split(data_all_genes, y_state)):\n",
    "    \n",
    "    X_train = data_all_genes.iloc[train_index, :]\n",
    "    X_test = data_all_genes.iloc[test_index, :]\n",
    "\n",
    "    y_train = y_state.iloc[train_index]\n",
    "    y_test = y_state.iloc[test_index]\n",
    "    \n",
    "    ys_train.append(y_train)\n",
    "    \n",
    "    trains_index.append(train_index)\n",
    "    tests_index.append(test_index)\n",
    "    \n",
    "    # remove some features\n",
    "    vt = VarianceThreshold(0.1)\n",
    "    filter_train = vt.fit(X_train)\n",
    "    \n",
    "    train_filtered = filter_train.transform(X_train)\n",
    "    test_filtered = filter_train.transform(X_test)\n",
    "    \n",
    "    cols_inds = vt.get_support(indices=True)\n",
    "    \n",
    "    X_train_filtered = pd.DataFrame(train_filtered, index=X_train.index, columns=X_train.columns[cols_inds])\n",
    "    X_test_filtered = pd.DataFrame(test_filtered, index=X_test.index, columns=X_test.columns[cols_inds])\n",
    "    \n",
    "    kb2 = SelectKBest(f_classif, k=500)\n",
    "\n",
    "    kb2_fit = kb2.fit(X_train_filtered, y_train)\n",
    "\n",
    "    train_filtered2 = kb2_fit.transform(X_train_filtered)\n",
    "    test_filtered2 = kb2_fit.transform(X_test_filtered)\n",
    "\n",
    "    cols_inds = kb2_fit.get_support(indices=True)\n",
    "\n",
    "    X_train_filtered2 = pd.DataFrame(train_filtered2, columns=X_train_filtered.columns[cols_inds], index=X_train_filtered.index)\n",
    "    X_test_filtered2 = pd.DataFrame(test_filtered2, columns=X_test_filtered.columns[cols_inds], index=X_test_filtered.index)\n",
    "    \n",
    "    scaler_model = StandardScaler().fit(X_train_filtered2)\n",
    "    X_train_scaled = scaler_model.transform(X_train_filtered2)\n",
    "    X_test_scaled = scaler_model.transform(X_test_filtered2)\n",
    "    \n",
    "    X_train_scaled_df = pd.DataFrame(X_train_scaled, columns=X_train_filtered2.columns, index=X_train_filtered2.index)\n",
    "    X_test_scaled_df = pd.DataFrame(X_test_scaled, columns=X_test_filtered2.columns, index=X_test_filtered2.index)\n",
    "    \n",
    "    X_train_scaled_df.to_csv(os.path.join(data_source, 'XTRAIN_RNASEQ_ALL_GENES_NOREPS_SPLIT_' + str(i) + '.csv'))\n",
    "    \n",
    "    X_test_scaled_df.to_csv(os.path.join(data_source, 'XTEST_RNASEQ_ALL_GENES_NOREPS_SPLIT_' + str(i) + '.csv'))\n",
    "    \n",
    "    y_train.to_csv(os.path.join(data_source, 'yTRAIN_ALL_GENES_NOREPS_SPLIT_' + str(i) + '.csv'))\n",
    "    \n",
    "    y_test.to_csv(os.path.join(data_source, 'yTEST_ALL_GENES_NOREPS_SPLIT_' + str(i) + '.csv'))"
   ],
   "metadata": {
    "collapsed": false,
    "ExecuteTime": {
     "end_time": "2024-03-28T16:25:36.121098600Z",
     "start_time": "2024-03-28T16:25:08.592844700Z"
    }
   },
   "id": "996e81cd4fe78135"
  },
  {
   "cell_type": "markdown",
   "source": [
    "## METABOLOMICS"
   ],
   "metadata": {
    "collapsed": false
   },
   "id": "708b22eb22da6a01"
  },
  {
   "cell_type": "code",
   "execution_count": 55,
   "outputs": [],
   "source": [
    "metadata_noreps = pd.read_excel(os.path.join(data_source, 'metabolomics_metadata.xlsx'), sheet_name='CONVERSION', index_col=0)"
   ],
   "metadata": {
    "collapsed": false,
    "ExecuteTime": {
     "end_time": "2024-03-28T16:26:27.020432Z",
     "start_time": "2024-03-28T16:26:26.980606Z"
    }
   },
   "id": "cfcde064b94a6e75"
  },
  {
   "cell_type": "code",
   "execution_count": 56,
   "outputs": [
    {
     "data": {
      "text/plain": "Metabolite Name    xylose  xylonic_acid  vanillic_acid    valine      urea  \\\nCS12_0_1_0       3.865952      0.308311       0.158177  1.568365  0.541555   \nCS12_0_2_0       3.260054      0.243968       0.144772  2.469169  1.083110   \nCS12_0_3_0       4.067024      0.308311       0.048257  1.152815  2.024129   \nCS12_A_1_1       3.549598      0.249330       0.115282  0.640751  1.659517   \nCS12_A_1_10      2.364611      1.664879       0.112601  8.978552  1.694370   \n\nMetabolite Name    uracil  UDP-glucuronic_acid   tyrosol  tyrosine_gc  \\\nCS12_0_1_0       0.075067             0.635389  0.160858     1.193029   \nCS12_0_2_0       0.104558             0.493298  0.067024     1.495979   \nCS12_0_3_0       0.080429             0.823056  0.104558     1.474531   \nCS12_A_1_1       0.045576             0.418231  0.000000     0.600536   \nCS12_A_1_10      0.142091             2.962466  0.099196     1.766756   \n\nMetabolite Name  tryptophan  ...     proline  quercetin-3-glucoside  \\\nCS12_0_1_0         4.490617  ...  108.618224               1.062913   \nCS12_0_2_0         4.965147  ...   95.041575               0.866498   \nCS12_0_3_0         4.353887  ...   92.855773               0.840128   \nCS12_A_1_1         2.530831  ...   81.820920               0.938593   \nCS12_A_1_10        0.597855  ...  206.592111              16.024570   \n\nMetabolite Name  quercetin-3-glucuronide  resveratrol  \\\nCS12_0_1_0                     21.228368     0.000955   \nCS12_0_2_0                     24.132731     0.000000   \nCS12_0_3_0                     16.748935     0.000000   \nCS12_A_1_1                     18.445534     0.000000   \nCS12_A_1_10                    10.791648     0.000000   \n\nMetabolite Name  resveratrol_dimer_(pallidol_or_viniferin)  spirotetramat  \\\nCS12_0_1_0                                             0.0       6.103717   \nCS12_0_2_0                                             0.0      10.381482   \nCS12_0_3_0                                             0.0      15.239863   \nCS12_A_1_1                                             0.0       0.412186   \nCS12_A_1_10                                            0.0       8.410129   \n\nMetabolite Name  splitomicin  taxifolin  tributyl_phosphate  tyrosine  \nCS12_0_1_0               0.0        0.0           34.438299  0.000000  \nCS12_0_2_0               0.0        0.0          152.884714  0.000000  \nCS12_0_3_0               0.0        0.0           38.786396  0.421625  \nCS12_A_1_1               0.0        0.0          190.192118  0.000000  \nCS12_A_1_10              0.0        0.0           55.184038  0.000000  \n\n[5 rows x 212 columns]",
      "text/html": "<div>\n<style scoped>\n    .dataframe tbody tr th:only-of-type {\n        vertical-align: middle;\n    }\n\n    .dataframe tbody tr th {\n        vertical-align: top;\n    }\n\n    .dataframe thead th {\n        text-align: right;\n    }\n</style>\n<table border=\"1\" class=\"dataframe\">\n  <thead>\n    <tr style=\"text-align: right;\">\n      <th>Metabolite Name</th>\n      <th>xylose</th>\n      <th>xylonic_acid</th>\n      <th>vanillic_acid</th>\n      <th>valine</th>\n      <th>urea</th>\n      <th>uracil</th>\n      <th>UDP-glucuronic_acid</th>\n      <th>tyrosol</th>\n      <th>tyrosine_gc</th>\n      <th>tryptophan</th>\n      <th>...</th>\n      <th>proline</th>\n      <th>quercetin-3-glucoside</th>\n      <th>quercetin-3-glucuronide</th>\n      <th>resveratrol</th>\n      <th>resveratrol_dimer_(pallidol_or_viniferin)</th>\n      <th>spirotetramat</th>\n      <th>splitomicin</th>\n      <th>taxifolin</th>\n      <th>tributyl_phosphate</th>\n      <th>tyrosine</th>\n    </tr>\n  </thead>\n  <tbody>\n    <tr>\n      <th>CS12_0_1_0</th>\n      <td>3.865952</td>\n      <td>0.308311</td>\n      <td>0.158177</td>\n      <td>1.568365</td>\n      <td>0.541555</td>\n      <td>0.075067</td>\n      <td>0.635389</td>\n      <td>0.160858</td>\n      <td>1.193029</td>\n      <td>4.490617</td>\n      <td>...</td>\n      <td>108.618224</td>\n      <td>1.062913</td>\n      <td>21.228368</td>\n      <td>0.000955</td>\n      <td>0.0</td>\n      <td>6.103717</td>\n      <td>0.0</td>\n      <td>0.0</td>\n      <td>34.438299</td>\n      <td>0.000000</td>\n    </tr>\n    <tr>\n      <th>CS12_0_2_0</th>\n      <td>3.260054</td>\n      <td>0.243968</td>\n      <td>0.144772</td>\n      <td>2.469169</td>\n      <td>1.083110</td>\n      <td>0.104558</td>\n      <td>0.493298</td>\n      <td>0.067024</td>\n      <td>1.495979</td>\n      <td>4.965147</td>\n      <td>...</td>\n      <td>95.041575</td>\n      <td>0.866498</td>\n      <td>24.132731</td>\n      <td>0.000000</td>\n      <td>0.0</td>\n      <td>10.381482</td>\n      <td>0.0</td>\n      <td>0.0</td>\n      <td>152.884714</td>\n      <td>0.000000</td>\n    </tr>\n    <tr>\n      <th>CS12_0_3_0</th>\n      <td>4.067024</td>\n      <td>0.308311</td>\n      <td>0.048257</td>\n      <td>1.152815</td>\n      <td>2.024129</td>\n      <td>0.080429</td>\n      <td>0.823056</td>\n      <td>0.104558</td>\n      <td>1.474531</td>\n      <td>4.353887</td>\n      <td>...</td>\n      <td>92.855773</td>\n      <td>0.840128</td>\n      <td>16.748935</td>\n      <td>0.000000</td>\n      <td>0.0</td>\n      <td>15.239863</td>\n      <td>0.0</td>\n      <td>0.0</td>\n      <td>38.786396</td>\n      <td>0.421625</td>\n    </tr>\n    <tr>\n      <th>CS12_A_1_1</th>\n      <td>3.549598</td>\n      <td>0.249330</td>\n      <td>0.115282</td>\n      <td>0.640751</td>\n      <td>1.659517</td>\n      <td>0.045576</td>\n      <td>0.418231</td>\n      <td>0.000000</td>\n      <td>0.600536</td>\n      <td>2.530831</td>\n      <td>...</td>\n      <td>81.820920</td>\n      <td>0.938593</td>\n      <td>18.445534</td>\n      <td>0.000000</td>\n      <td>0.0</td>\n      <td>0.412186</td>\n      <td>0.0</td>\n      <td>0.0</td>\n      <td>190.192118</td>\n      <td>0.000000</td>\n    </tr>\n    <tr>\n      <th>CS12_A_1_10</th>\n      <td>2.364611</td>\n      <td>1.664879</td>\n      <td>0.112601</td>\n      <td>8.978552</td>\n      <td>1.694370</td>\n      <td>0.142091</td>\n      <td>2.962466</td>\n      <td>0.099196</td>\n      <td>1.766756</td>\n      <td>0.597855</td>\n      <td>...</td>\n      <td>206.592111</td>\n      <td>16.024570</td>\n      <td>10.791648</td>\n      <td>0.000000</td>\n      <td>0.0</td>\n      <td>8.410129</td>\n      <td>0.0</td>\n      <td>0.0</td>\n      <td>55.184038</td>\n      <td>0.000000</td>\n    </tr>\n  </tbody>\n</table>\n<p>5 rows × 212 columns</p>\n</div>"
     },
     "execution_count": 56,
     "metadata": {},
     "output_type": "execute_result"
    }
   ],
   "source": [
    "data_reps = pd.read_excel(os.path.join(data_source, 'metabolomics.xlsx'), index_col=0, header=0)\n",
    "data_reps = data_reps.loc[:, data_reps.columns != 'Method']\n",
    "data_reps = data_reps.transpose()\n",
    "data_reps.head()"
   ],
   "metadata": {
    "collapsed": false,
    "ExecuteTime": {
     "end_time": "2024-03-28T16:26:29.535816600Z",
     "start_time": "2024-03-28T16:26:28.974283900Z"
    }
   },
   "id": "71c72d1209223d76"
  },
  {
   "cell_type": "code",
   "execution_count": 57,
   "outputs": [
    {
     "data": {
      "text/plain": "Metabolite Name    xylose  xylonic_acid  vanillic_acid    valine      urea  \\\ngroups                                                                       \nCS_time0_2012    3.731010      0.286863       0.117069  1.730116  1.216265   \nCS_time0_2013    3.248436      0.571939       0.219839  0.758713  1.244861   \nCS_time0_2014    2.293119      0.529937       0.495085  1.361930  1.078642   \nCS_time10_2012   1.701519      0.908847       0.124218  6.172475  1.798034   \nCS_time10_2013   1.420912      0.709562       0.271671  2.251117  0.851653   \n\nMetabolite Name    uracil  UDP-glucuronic_acid   tyrosol  tyrosine_gc  \\\ngroups                                                                  \nCS_time0_2012    0.086685             0.650581  0.110813     1.387846   \nCS_time0_2013    0.202860             1.277033  0.256479     1.069705   \nCS_time0_2014    0.563003             1.026810  0.618409     0.858803   \nCS_time10_2012   0.141197             1.705094  0.134942    56.835567   \nCS_time10_2013   0.204647             1.277033  0.285970     1.787310   \n\nMetabolite Name  tryptophan  ...      proline  quercetin-3-glucoside  \\\ngroups                       ...                                       \nCS_time0_2012      4.603217  ...    98.838524               0.923180   \nCS_time0_2013      1.967828  ...  1040.845728              12.307100   \nCS_time0_2014      1.293119  ...   138.256017               6.642696   \nCS_time10_2012     0.456658  ...   210.242434              21.346971   \nCS_time10_2013     0.618409  ...  5721.521059             131.340072   \n\nMetabolite Name  quercetin-3-glucuronide  resveratrol  \\\ngroups                                                  \nCS_time0_2012                  20.703345     0.000318   \nCS_time0_2013                  77.785800     1.187485   \nCS_time0_2014                  60.868062     1.184399   \nCS_time10_2012                 14.397728     0.000000   \nCS_time10_2013                 67.179783     4.141035   \n\nMetabolite Name  resveratrol_dimer_(pallidol_or_viniferin)  spirotetramat  \\\ngroups                                                                      \nCS_time0_2012                                     0.000000      10.575021   \nCS_time0_2013                                     0.000000      38.528039   \nCS_time0_2014                                     0.262894       0.000000   \nCS_time10_2012                                    0.000000       4.236117   \nCS_time10_2013                                    0.000000       4.742720   \n\nMetabolite Name  splitomicin  taxifolin  tributyl_phosphate  tyrosine  \ngroups                                                                 \nCS_time0_2012            0.0   0.000000           75.369803  0.140542  \nCS_time0_2013            0.0   0.029844            0.000000  0.000000  \nCS_time0_2014            0.0   0.880047            0.000000  0.000000  \nCS_time10_2012           0.0   0.000000           68.386685  0.087802  \nCS_time10_2013           0.0   6.002407            0.000000  0.000000  \n\n[5 rows x 212 columns]",
      "text/html": "<div>\n<style scoped>\n    .dataframe tbody tr th:only-of-type {\n        vertical-align: middle;\n    }\n\n    .dataframe tbody tr th {\n        vertical-align: top;\n    }\n\n    .dataframe thead th {\n        text-align: right;\n    }\n</style>\n<table border=\"1\" class=\"dataframe\">\n  <thead>\n    <tr style=\"text-align: right;\">\n      <th>Metabolite Name</th>\n      <th>xylose</th>\n      <th>xylonic_acid</th>\n      <th>vanillic_acid</th>\n      <th>valine</th>\n      <th>urea</th>\n      <th>uracil</th>\n      <th>UDP-glucuronic_acid</th>\n      <th>tyrosol</th>\n      <th>tyrosine_gc</th>\n      <th>tryptophan</th>\n      <th>...</th>\n      <th>proline</th>\n      <th>quercetin-3-glucoside</th>\n      <th>quercetin-3-glucuronide</th>\n      <th>resveratrol</th>\n      <th>resveratrol_dimer_(pallidol_or_viniferin)</th>\n      <th>spirotetramat</th>\n      <th>splitomicin</th>\n      <th>taxifolin</th>\n      <th>tributyl_phosphate</th>\n      <th>tyrosine</th>\n    </tr>\n    <tr>\n      <th>groups</th>\n      <th></th>\n      <th></th>\n      <th></th>\n      <th></th>\n      <th></th>\n      <th></th>\n      <th></th>\n      <th></th>\n      <th></th>\n      <th></th>\n      <th></th>\n      <th></th>\n      <th></th>\n      <th></th>\n      <th></th>\n      <th></th>\n      <th></th>\n      <th></th>\n      <th></th>\n      <th></th>\n      <th></th>\n    </tr>\n  </thead>\n  <tbody>\n    <tr>\n      <th>CS_time0_2012</th>\n      <td>3.731010</td>\n      <td>0.286863</td>\n      <td>0.117069</td>\n      <td>1.730116</td>\n      <td>1.216265</td>\n      <td>0.086685</td>\n      <td>0.650581</td>\n      <td>0.110813</td>\n      <td>1.387846</td>\n      <td>4.603217</td>\n      <td>...</td>\n      <td>98.838524</td>\n      <td>0.923180</td>\n      <td>20.703345</td>\n      <td>0.000318</td>\n      <td>0.000000</td>\n      <td>10.575021</td>\n      <td>0.0</td>\n      <td>0.000000</td>\n      <td>75.369803</td>\n      <td>0.140542</td>\n    </tr>\n    <tr>\n      <th>CS_time0_2013</th>\n      <td>3.248436</td>\n      <td>0.571939</td>\n      <td>0.219839</td>\n      <td>0.758713</td>\n      <td>1.244861</td>\n      <td>0.202860</td>\n      <td>1.277033</td>\n      <td>0.256479</td>\n      <td>1.069705</td>\n      <td>1.967828</td>\n      <td>...</td>\n      <td>1040.845728</td>\n      <td>12.307100</td>\n      <td>77.785800</td>\n      <td>1.187485</td>\n      <td>0.000000</td>\n      <td>38.528039</td>\n      <td>0.0</td>\n      <td>0.029844</td>\n      <td>0.000000</td>\n      <td>0.000000</td>\n    </tr>\n    <tr>\n      <th>CS_time0_2014</th>\n      <td>2.293119</td>\n      <td>0.529937</td>\n      <td>0.495085</td>\n      <td>1.361930</td>\n      <td>1.078642</td>\n      <td>0.563003</td>\n      <td>1.026810</td>\n      <td>0.618409</td>\n      <td>0.858803</td>\n      <td>1.293119</td>\n      <td>...</td>\n      <td>138.256017</td>\n      <td>6.642696</td>\n      <td>60.868062</td>\n      <td>1.184399</td>\n      <td>0.262894</td>\n      <td>0.000000</td>\n      <td>0.0</td>\n      <td>0.880047</td>\n      <td>0.000000</td>\n      <td>0.000000</td>\n    </tr>\n    <tr>\n      <th>CS_time10_2012</th>\n      <td>1.701519</td>\n      <td>0.908847</td>\n      <td>0.124218</td>\n      <td>6.172475</td>\n      <td>1.798034</td>\n      <td>0.141197</td>\n      <td>1.705094</td>\n      <td>0.134942</td>\n      <td>56.835567</td>\n      <td>0.456658</td>\n      <td>...</td>\n      <td>210.242434</td>\n      <td>21.346971</td>\n      <td>14.397728</td>\n      <td>0.000000</td>\n      <td>0.000000</td>\n      <td>4.236117</td>\n      <td>0.0</td>\n      <td>0.000000</td>\n      <td>68.386685</td>\n      <td>0.087802</td>\n    </tr>\n    <tr>\n      <th>CS_time10_2013</th>\n      <td>1.420912</td>\n      <td>0.709562</td>\n      <td>0.271671</td>\n      <td>2.251117</td>\n      <td>0.851653</td>\n      <td>0.204647</td>\n      <td>1.277033</td>\n      <td>0.285970</td>\n      <td>1.787310</td>\n      <td>0.618409</td>\n      <td>...</td>\n      <td>5721.521059</td>\n      <td>131.340072</td>\n      <td>67.179783</td>\n      <td>4.141035</td>\n      <td>0.000000</td>\n      <td>4.742720</td>\n      <td>0.0</td>\n      <td>6.002407</td>\n      <td>0.000000</td>\n      <td>0.000000</td>\n    </tr>\n  </tbody>\n</table>\n<p>5 rows × 212 columns</p>\n</div>"
     },
     "execution_count": 57,
     "metadata": {},
     "output_type": "execute_result"
    }
   ],
   "source": [
    "data_mets_noreps = data_reps.groupby(metadata_noreps['groups']).mean()\n",
    "data_mets_noreps.head()"
   ],
   "metadata": {
    "collapsed": false,
    "ExecuteTime": {
     "end_time": "2024-03-28T16:26:32.079929500Z",
     "start_time": "2024-03-28T16:26:32.063073700Z"
    }
   },
   "id": "d28a54be21fff4c3"
  },
  {
   "cell_type": "code",
   "execution_count": 58,
   "outputs": [],
   "source": [
    "for i in range(len(trains_index)):\n",
    "\n",
    "    Xtrain_mets = data_mets_noreps.iloc[trains_index[i], :]\n",
    "    \n",
    "    Xtest_mets = data_mets_noreps.iloc[tests_index[i], :]\n",
    "    \n",
    "    vt = VarianceThreshold(0).fit(Xtrain_mets)\n",
    "    X_train_filtered = vt.transform(Xtrain_mets)\n",
    "    X_test_filtered = vt.transform(Xtest_mets)\n",
    "    cols_inds_vt = vt.get_support(indices=True)\n",
    "    X_train_filtered_df = pd.DataFrame(X_train_filtered, index=Xtrain_mets.index, columns=Xtrain_mets.columns[cols_inds_vt])\n",
    "    X_test_filtered_df = pd.DataFrame(X_test_filtered, index=Xtest_mets.index, columns=Xtest_mets.columns[cols_inds_vt])\n",
    "\n",
    "    scaler_model = StandardScaler().fit(X_train_filtered_df)\n",
    "    X_train_scaled = scaler_model.transform(X_train_filtered_df)\n",
    "    X_test_scaled = scaler_model.transform(X_test_filtered_df)\n",
    "\n",
    "    X_train_scaled_df = pd.DataFrame(X_train_scaled, columns=X_train_filtered_df.columns, index=X_train_filtered_df.index)\n",
    "    X_test_scaled_df = pd.DataFrame(X_test_scaled, columns=X_test_filtered_df.columns, index=X_test_filtered_df.index)\n",
    "\n",
    "    X_train_scaled_df.to_csv(os.path.join(data_source, 'XTRAIN_METABOLOMICS_NOREPS_SPLIT_'+ str(i) +'.csv'))\n",
    "    X_test_scaled_df.to_csv(os.path.join(data_source, 'XTEST_METABOLOMICS_NOREPS_SPLIT_'+ str(i) +'.csv'))"
   ],
   "metadata": {
    "collapsed": false,
    "ExecuteTime": {
     "end_time": "2024-03-28T16:26:49.582800400Z",
     "start_time": "2024-03-28T16:26:49.211526300Z"
    }
   },
   "id": "3218752bf68987d5"
  },
  {
   "cell_type": "markdown",
   "source": [
    "## FLUXOMICS"
   ],
   "metadata": {
    "collapsed": false
   },
   "id": "2e929700a4849744"
  },
  {
   "cell_type": "code",
   "execution_count": 62,
   "outputs": [
    {
     "data": {
      "text/plain": "(73, 8632)"
     },
     "execution_count": 62,
     "metadata": {},
     "output_type": "execute_result"
    }
   ],
   "source": [
    "data_fluxes = pd.read_csv(os.path.join(data_source, 'fluxomics_data.csv'), index_col=0)\n",
    "data_fluxes = data_fluxes.fillna(0)\n",
    "data_fluxes = data_fluxes.transpose()\n",
    "data_fluxes.shape"
   ],
   "metadata": {
    "collapsed": false,
    "ExecuteTime": {
     "end_time": "2024-03-28T16:27:23.737890500Z",
     "start_time": "2024-03-28T16:27:23.653995500Z"
    }
   },
   "id": "e479d93ecf93aa43"
  },
  {
   "cell_type": "code",
   "execution_count": 63,
   "outputs": [],
   "source": [
    "for i in range(len(trains_index)):\n",
    "    \n",
    "    Xtrain_fluxes = data_fluxes.iloc[trains_index[i], :]\n",
    "    \n",
    "    Xtest_fluxes = data_fluxes.iloc[tests_index[i], :]\n",
    "    \n",
    "    y_train = ys_train[i]\n",
    "\n",
    "    # remove some features\n",
    "    vt = VarianceThreshold(0.1)\n",
    "    filter_train = vt.fit(Xtrain_fluxes)\n",
    "    \n",
    "    train_filtered = filter_train.transform(Xtrain_fluxes)\n",
    "    test_filtered = filter_train.transform(Xtest_fluxes)\n",
    "    \n",
    "    cols_inds = vt.get_support(indices=True)\n",
    "    \n",
    "    X_train_filtered = pd.DataFrame(train_filtered, index=Xtrain_fluxes.index, columns=Xtrain_fluxes.columns[cols_inds])\n",
    "    X_test_filtered = pd.DataFrame(test_filtered, index=Xtest_fluxes.index, columns=Xtest_fluxes.columns[cols_inds])\n",
    "\n",
    "    kb2 = SelectKBest(f_classif, k=500)\n",
    "\n",
    "    kb2_fit = kb2.fit(X_train_filtered, y_train)\n",
    "    \n",
    "    train_filtered2 = kb2_fit.transform(X_train_filtered)\n",
    "    test_filtered2 = kb2_fit.transform(X_test_filtered)\n",
    "    \n",
    "    cols_inds = kb2_fit.get_support(indices=True)\n",
    "    \n",
    "    X_train_filtered2 = pd.DataFrame(train_filtered2, columns=X_train_filtered.columns[cols_inds], index=X_train_filtered.index)\n",
    "    X_test_filtered2 = pd.DataFrame(test_filtered2, columns=X_test_filtered.columns[cols_inds], index=X_test_filtered.index)\n",
    "    \n",
    "    scaler_model = StandardScaler().fit(X_train_filtered2)\n",
    "    X_train_scaled = scaler_model.transform(X_train_filtered2)\n",
    "    X_test_scaled = scaler_model.transform(X_test_filtered2)\n",
    "    \n",
    "    X_train_scaled_df = pd.DataFrame(X_train_scaled, columns=X_train_filtered2.columns, index=X_train_filtered2.index)\n",
    "    X_test_scaled_df = pd.DataFrame(X_test_scaled, columns=X_test_filtered2.columns, index=X_test_filtered2.index)\n",
    "    \n",
    "    X_train_scaled_df.to_csv(os.path.join(data_source, 'XTRAIN_FLUXOMICS_REACTIONS_SPLIT_'+ str(i) +'.csv'))\n",
    "    X_test_scaled_df.to_csv(os.path.join(data_source, 'XTEST_FLUXOMICS_REACTIONS_SPLIT_'+ str(i) +'.csv'))"
   ],
   "metadata": {
    "collapsed": false,
    "ExecuteTime": {
     "end_time": "2024-03-28T16:27:30.692461500Z",
     "start_time": "2024-03-28T16:27:25.262187200Z"
    }
   },
   "id": "700210d5f1f2cb81"
  },
  {
   "cell_type": "markdown",
   "source": [],
   "metadata": {
    "collapsed": false
   },
   "id": "54aadd55ca2490b8"
  }
 ],
 "metadata": {
  "kernelspec": {
   "display_name": "Python 3",
   "language": "python",
   "name": "python3"
  },
  "language_info": {
   "codemirror_mode": {
    "name": "ipython",
    "version": 2
   },
   "file_extension": ".py",
   "mimetype": "text/x-python",
   "name": "python",
   "nbconvert_exporter": "python",
   "pygments_lexer": "ipython2",
   "version": "2.7.6"
  }
 },
 "nbformat": 4,
 "nbformat_minor": 5
}
